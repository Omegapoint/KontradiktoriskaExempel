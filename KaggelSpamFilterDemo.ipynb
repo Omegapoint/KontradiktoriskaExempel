{
 "cells": [
  {
   "cell_type": "markdown",
   "metadata": {},
   "source": [
    "0,0 : restart the kernel (with dialog)\n",
    "A : insert cell above\n",
    "B : insert cell below\n",
    "L : show line-numbers\n",
    "space : scroll down\n",
    "space + shift : scroll up\n",
    "shift + enter: run selected"
   ]
  },
  {
   "cell_type": "markdown",
   "metadata": {},
   "source": [
    "### Hitta mönster i data"
   ]
  },
  {
   "cell_type": "code",
   "execution_count": 1,
   "metadata": {
    "_uuid": "af5950a752c8b4925171289b9e1f9996d62ed6b6"
   },
   "outputs": [
    {
     "data": {
      "text/plain": [
       "0    4360\n",
       "1    1368\n",
       "Name: spam, dtype: int64"
      ]
     },
     "execution_count": 1,
     "metadata": {},
     "output_type": "execute_result"
    }
   ],
   "source": [
    "import numpy as np # linear algebra\n",
    "import pandas as pd # data processing as batches\n",
    "\n",
    "#https://www.kaggle.com/c/spam-detection\n",
    "data = pd.read_csv(\"data/emails.csv\", encoding= \"latin-1\")\n",
    "data.spam.value_counts()"
   ]
  },
  {
   "cell_type": "code",
   "execution_count": 13,
   "metadata": {
    "_uuid": "9d7d42f00d6de4e8347f5afc7528585340bad6ad"
   },
   "outputs": [
    {
     "name": "stdout",
     "output_type": "stream",
     "text": [
      "782     Subject: an alternative to mlm that works  gre...\n",
      "1998    Subject: re : article  hello , vince !  i just...\n",
      "906     Subject: : : fast acting viagra  at  last ( fa...\n",
      "1416    Subject: azuix deal valuation  bob ,  please f...\n",
      "1650    Subject: optical network engineering & enron r...\n",
      "Name: text, dtype: object\n",
      "782     1\n",
      "1998    0\n",
      "906     1\n",
      "1416    0\n",
      "1650    0\n",
      "Name: spam, dtype: int64\n"
     ]
    }
   ],
   "source": [
    "#http://scikit-learn.org/stable/modules/generated/sklearn.model_selection.train_test_split.html\n",
    "from sklearn.model_selection import train_test_split\n",
    "train_X, test_X, train_y, test_y = train_test_split(data[\"text\"],data[\"spam\"], test_size=0.2)\n",
    "print(train_X[0:5])\n",
    "print(train_y[0:5])"
   ]
  },
  {
   "cell_type": "markdown",
   "metadata": {},
   "source": [
    "### Massage av datat till ett format där vi kan analysera det"
   ]
  },
  {
   "cell_type": "code",
   "execution_count": 15,
   "metadata": {
    "_uuid": "8b92820c0b777aaf10c7e75defd62bcd40c0d433"
   },
   "outputs": [
    {
     "name": "stdout",
     "output_type": "stream",
     "text": [
      "['zungenakrobatik', 'zur', 'zurich', 'zusaetzlich', 'zustellstatus', 'zuzana', 'zwabic', 'zwischen', 'zwlaszcza', 'zwrocic', 'zwwyw', 'zxghlajf', 'zyban', 'zyc', 'zygoma', 'zymg', 'zzmacmac', 'zzn', 'zzncacst', 'zzzz']\n"
     ]
    },
    {
     "data": {
      "text/plain": [
       "scipy.sparse.csr.csr_matrix"
      ]
     },
     "execution_count": 15,
     "metadata": {},
     "output_type": "execute_result"
    }
   ],
   "source": [
    "#http://scikit-learn.org/stable/modules/generated/sklearn.feature_extraction.text.CountVectorizer.html\n",
    "from sklearn.feature_extraction.text import CountVectorizer\n",
    "vect = CountVectorizer(stop_words=\"english\")\n",
    "vect.fit(train_X)\n",
    "print(vect.get_feature_names()[-20:])\n",
    "X_train_df = vect.transform(train_X)\n",
    "X_test_df = vect.transform(test_X)\n",
    "type(X_test_df)"
   ]
  },
  {
   "cell_type": "markdown",
   "metadata": {},
   "source": [
    "### Beskriva mönster med modeller"
   ]
  },
  {
   "cell_type": "code",
   "execution_count": 16,
   "metadata": {
    "_uuid": "02dcf978c0ca9759785204cfc4f024cea961418f"
   },
   "outputs": [
    {
     "data": {
      "text/plain": [
       "MultinomialNB(alpha=1.8, class_prior=None, fit_prior=True)"
      ]
     },
     "execution_count": 16,
     "metadata": {},
     "output_type": "execute_result"
    }
   ],
   "source": [
    "#http://scikit-learn.org/stable/modules/generated/sklearn.naive_bayes.MultinomialNB.html#sklearn.naive_bayes.MultinomialNB\n",
    "from sklearn.naive_bayes import MultinomialNB\n",
    "model = MultinomialNB(alpha=1.8)\n",
    "model.fit(X_train_df,train_y)"
   ]
  },
  {
   "cell_type": "markdown",
   "metadata": {},
   "source": [
    "### Prediktion från modellen "
   ]
  },
  {
   "cell_type": "code",
   "execution_count": 17,
   "metadata": {
    "scrolled": true
   },
   "outputs": [
    {
     "name": "stdout",
     "output_type": "stream",
     "text": [
      "             precision    recall  f1-score   support\n",
      "\n",
      "        Ham       1.00      0.99      0.99       870\n",
      "       Spam       0.98      0.99      0.98       276\n",
      "\n",
      "avg / total       0.99      0.99      0.99      1146\n",
      "\n"
     ]
    }
   ],
   "source": [
    "from sklearn.metrics import accuracy_score, classification_report\n",
    "pred = model.predict(X_test_df)\n",
    "accuracy_score(test_y, pred)\n",
    "print(classification_report(test_y, pred , target_names = [\"Ham\", \"Spam\"]))"
   ]
  },
  {
   "cell_type": "code",
   "execution_count": null,
   "metadata": {},
   "outputs": [],
   "source": []
  }
 ],
 "metadata": {
  "kernelspec": {
   "display_name": "conda_tensorflow_p36",
   "language": "python",
   "name": "conda_tensorflow_p36"
  },
  "language_info": {
   "codemirror_mode": {
    "name": "ipython",
    "version": 3
   },
   "file_extension": ".py",
   "mimetype": "text/x-python",
   "name": "python",
   "nbconvert_exporter": "python",
   "pygments_lexer": "ipython3",
   "version": "3.6.5"
  }
 },
 "nbformat": 4,
 "nbformat_minor": 2
}
